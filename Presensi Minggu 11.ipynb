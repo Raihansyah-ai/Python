{
  "nbformat": 4,
  "nbformat_minor": 0,
  "metadata": {
    "colab": {
      "name": "Salinan dari ImageTest.ipynb",
      "provenance": [],
      "collapsed_sections": [],
      "authorship_tag": "ABX9TyPJ5CE4byOGB6vGwLBSo3wZ",
      "include_colab_link": true
    },
    "kernelspec": {
      "name": "python3",
      "display_name": "Python 3"
    }
  },
  "cells": [
    {
      "cell_type": "markdown",
      "metadata": {
        "id": "view-in-github",
        "colab_type": "text"
      },
      "source": [
        "<a href=\"https://colab.research.google.com/github/Raihansyah-ai/Python/blob/main/Presensi%20Minggu%2011.ipynb\" target=\"_parent\"><img src=\"https://colab.research.google.com/assets/colab-badge.svg\" alt=\"Open In Colab\"/></a>"
      ]
    },
    {
      "cell_type": "code",
      "metadata": {
        "id": "_dJvuvIBVLS_",
        "colab": {
          "base_uri": "https://localhost:8080/"
        },
        "outputId": "d04747bb-7181-41b7-89c4-a488991a2ce2"
      },
      "source": [
        "from google.colab import drive\n",
        "drive.mount('/content/drive')"
      ],
      "execution_count": 433,
      "outputs": [
        {
          "output_type": "stream",
          "text": [
            "Drive already mounted at /content/drive; to attempt to forcibly remount, call drive.mount(\"/content/drive\", force_remount=True).\n"
          ],
          "name": "stdout"
        }
      ]
    },
    {
      "cell_type": "code",
      "metadata": {
        "colab": {
          "base_uri": "https://localhost:8080/"
        },
        "id": "1UoXNWTzhSTs",
        "outputId": "f039170d-56ec-47fa-86da-68a6803d5f98"
      },
      "source": [
        "cd /content/drive/MyDrive"
      ],
      "execution_count": 434,
      "outputs": [
        {
          "output_type": "stream",
          "text": [
            "/content/drive/MyDrive\n"
          ],
          "name": "stdout"
        }
      ]
    },
    {
      "cell_type": "code",
      "metadata": {
        "id": "5IGm26ZzVGBs"
      },
      "source": [
        "from keras.models import Sequential\n",
        "from keras.layers.convolutional import Conv2D\n",
        "from keras.layers.convolutional import MaxPooling2D\n",
        "from keras.layers.core import Activation\n",
        "from keras.layers.core import Flatten\n",
        "from keras.layers.core import Dense\n",
        "from keras.optimizers import Adam\n",
        "from sklearn.preprocessing import LabelBinarizer\n",
        "from sklearn.model_selection import train_test_split\n",
        "from sklearn.metrics import classification_report\n",
        "from PIL import Image\n",
        "from imutils import paths\n",
        "import numpy as np\n",
        "import os"
      ],
      "execution_count": 435,
      "outputs": []
    },
    {
      "cell_type": "code",
      "metadata": {
        "id": "0-5PXYTsVGBw",
        "colab": {
          "base_uri": "https://localhost:8080/"
        },
        "outputId": "dd29bf4c-a01e-429a-ffca-92624b867411"
      },
      "source": [
        "print(\"[INFO] loading images...\")\n",
        "imagePaths = paths.list_images(\"DATASET_DAUN\")\n",
        "data = []\n",
        "labels = []"
      ],
      "execution_count": 436,
      "outputs": [
        {
          "output_type": "stream",
          "text": [
            "[INFO] loading images...\n"
          ],
          "name": "stdout"
        }
      ]
    },
    {
      "cell_type": "code",
      "metadata": {
        "id": "9Q-KXSsGVGB0"
      },
      "source": [
        "for imagePath in imagePaths:\n",
        "\timage = Image.open(imagePath)\n",
        "\timage = np.array(image.resize((128, 128))) / 255.0\n",
        "\tdata.append(image)\n",
        "\n",
        "\tlabel = imagePath.split(os.path.sep)[-2]\n",
        "\tlabels.append(label)"
      ],
      "execution_count": 437,
      "outputs": []
    },
    {
      "cell_type": "code",
      "metadata": {
        "colab": {
          "base_uri": "https://localhost:8080/"
        },
        "id": "JQvEGmbniDki",
        "outputId": "f323b665-5087-4ad2-f4f8-ec9f27b6c3bb"
      },
      "source": [
        "print(labels)"
      ],
      "execution_count": 438,
      "outputs": [
        {
          "output_type": "stream",
          "text": [
            "['GMB_04', 'GMB_04', 'GMB_04', 'GMB_04', 'GMB_04', 'GMB_04', 'GMB_04', 'GMB_04', 'GMB_04', 'GMB_04', 'GMB_04', 'GMB_04', 'GMB_04', 'GMB_04', 'GMB_04', 'GMB_04', 'GMB_04', 'GMB_04', 'GMB_04', 'GMB_04', 'GMB_04', 'GMB_04', 'GMB_04', 'GMB_04', 'GMB_04', 'GMB_04', 'GMB_04', 'GMB_04', 'GMB_04', 'GMB_04', 'GMB_04', 'GMB_04', 'GMB_04', 'GMB_04', 'GMB_04', 'GMB_04', 'GMB_04', 'GMB_04', 'GMB_04', 'GMB_04', 'GMB_04', 'GMB_04', 'GMB_04', 'GMB_04', 'GMB_04', 'GMB_04', 'GMB_04', 'GMB_04', 'GMB_04', 'GMB_04', 'GMB_04', 'GMB_04', 'GMB_04', 'GMB_04', 'GMB_04', 'GMB_04', 'GMB_04', 'GMB_04', 'GMB_04', 'GMB_04', 'GMB_04', 'GMB_04', 'GMB_04', 'GMB_04', 'GMB_04', 'GMB_04', 'GMB_04', 'GMB_04', 'GMB_04', 'GMB_04', 'GMB_04', 'GMB_04', 'GMB_04', 'GMB_04', 'GMB_04', 'GMB_04', 'GMB_04', 'GMB_04', 'GMB_04', 'GMB_04', 'GMB_04', 'GMB_04', 'GMB_04', 'GMB_04', 'GMB_04', 'GMB_04', 'GMB_04', 'GMB_04', 'GMB_04', 'GMB_04', 'GMB_04', 'GMB_04', 'GMB_04', 'GMB_04', 'GMB_04', 'GMB_04', 'GMB_04', 'GMB_04', 'GMB_04', 'GMB_04', 'GMB_04', 'GMB_04', 'GMB_04', 'GMB_04', 'GMB_04', 'GMB_04', 'GMB_04', 'GMB_04', 'GMB_04', 'GMB_04', 'GMB_04', 'GMB_04', 'GMB_04', 'GMB_04', 'GMB_04', 'GMB_04', 'GMB_04', 'GMB_04', 'GMB_04', 'GMB_04', 'GMB_04', 'GMB_04', 'GMB_01', 'GMB_01', 'GMB_01', 'GMB_01', 'GMB_01', 'GMB_01', 'GMB_01', 'GMB_01', 'GMB_01', 'GMB_01', 'GMB_01', 'GMB_01', 'GMB_01', 'GMB_01', 'GMB_01', 'GMB_01', 'GMB_01', 'GMB_01', 'GMB_01', 'GMB_01', 'GMB_01', 'GMB_01', 'GMB_01', 'GMB_01', 'GMB_01', 'GMB_01', 'GMB_01', 'GMB_01', 'GMB_01', 'GMB_01', 'GMB_01', 'GMB_01', 'GMB_01', 'GMB_01', 'GMB_01', 'GMB_01', 'GMB_01', 'GMB_01', 'GMB_01', 'GMB_01', 'GMB_01', 'GMB_01', 'GMB_01', 'GMB_01', 'GMB_01', 'GMB_01', 'GMB_01', 'GMB_01', 'GMB_01', 'GMB_01', 'GMB_01', 'GMB_01', 'GMB_01', 'GMB_01', 'GMB_01', 'GMB_01', 'GMB_01', 'GMB_01', 'GMB_01', 'GMB_01', 'GMB_01', 'GMB_01', 'GMB_01', 'GMB_01', 'GMB_01', 'GMB_01', 'GMB_01', 'GMB_01', 'GMB_01', 'GMB_01', 'GMB_01', 'GMB_01', 'GMB_01', 'GMB_01', 'GMB_01', 'GMB_01', 'GMB_01', 'GMB_01', 'GMB_01', 'GMB_01', 'GMB_01', 'GMB_01', 'GMB_01', 'GMB_01', 'GMB_01', 'GMB_01', 'GMB_01', 'GMB_01', 'GMB_01', 'GMB_01', 'GMB_01', 'GMB_01', 'GMB_01', 'GMB_01', 'GMB_01', 'GMB_01', 'GMB_01', 'GMB_01', 'GMB_01', 'GMB_01', 'GMB_01', 'GMB_01', 'GMB_01', 'GMB_01', 'GMB_01', 'GMB_01', 'GMB_01', 'GMB_01', 'GMB_01', 'GMB_01', 'GMB_01', 'GMB_01', 'GMB_01', 'GMB_01', 'GMB_01', 'GMB_01', 'GMB_05', 'GMB_05', 'GMB_05', 'GMB_05', 'GMB_05', 'GMB_05', 'GMB_05', 'GMB_05', 'GMB_05', 'GMB_05', 'GMB_05', 'GMB_05', 'GMB_05', 'GMB_05', 'GMB_05', 'GMB_05', 'GMB_05', 'GMB_05', 'GMB_05', 'GMB_05', 'GMB_05', 'GMB_05', 'GMB_05', 'GMB_05', 'GMB_05', 'GMB_05', 'GMB_05', 'GMB_05', 'GMB_05', 'GMB_05', 'GMB_05', 'GMB_05', 'GMB_05', 'GMB_05', 'GMB_05', 'GMB_05', 'GMB_05', 'GMB_05', 'GMB_05', 'GMB_05', 'GMB_05', 'GMB_05', 'GMB_05', 'GMB_05', 'GMB_05', 'GMB_05', 'GMB_05', 'GMB_05', 'GMB_05', 'GMB_05', 'GMB_05', 'GMB_05', 'GMB_05', 'GMB_05', 'GMB_05', 'GMB_05', 'GMB_05', 'GMB_05', 'GMB_05', 'GMB_05', 'GMB_05', 'GMB_05', 'GMB_05', 'GMB_05', 'GMB_05', 'GMB_05', 'GMB_05', 'GMB_05', 'GMB_05', 'GMB_05', 'GMB_05', 'GMB_05', 'GMB_05', 'GMB_05', 'GMB_05', 'GMB_05', 'GMB_05', 'GMB_05', 'GMB_05', 'GMB_05', 'GMB_05', 'GMB_05', 'GMB_05', 'GMB_05', 'GMB_05', 'GMB_05', 'GMB_05', 'GMB_05', 'GMB_05', 'GMB_05', 'GMB_05', 'GMB_05', 'GMB_05', 'GMB_05', 'GMB_05', 'GMB_05', 'GMB_05', 'GMB_05', 'GMB_05', 'GMB_05', 'GMB_05', 'GMB_05', 'GMB_05', 'GMB_05', 'GMB_05', 'GMB_05', 'GMB_05', 'GMB_05', 'GMB_05', 'GMB_05', 'GMB_05', 'GMB_05', 'GMB_05', 'GMB_05', 'GMB_05', 'GMB_05', 'GMB_05', 'GMB_05', 'GMB_05', 'GMB_05', 'GMB_05', 'GMB_02', 'GMB_02', 'GMB_02', 'GMB_02', 'GMB_02', 'GMB_02', 'GMB_02', 'GMB_02', 'GMB_02', 'GMB_02', 'GMB_02', 'GMB_02', 'GMB_02', 'GMB_02', 'GMB_02', 'GMB_02', 'GMB_02', 'GMB_02', 'GMB_02', 'GMB_02', 'GMB_02', 'GMB_02', 'GMB_02', 'GMB_02', 'GMB_02', 'GMB_02', 'GMB_02', 'GMB_02', 'GMB_02', 'GMB_02', 'GMB_02', 'GMB_02', 'GMB_02', 'GMB_02', 'GMB_02', 'GMB_02', 'GMB_02', 'GMB_02', 'GMB_02', 'GMB_02', 'GMB_02', 'GMB_02', 'GMB_02', 'GMB_02', 'GMB_02', 'GMB_02', 'GMB_02', 'GMB_02', 'GMB_02', 'GMB_02', 'GMB_02', 'GMB_02', 'GMB_02', 'GMB_02', 'GMB_02', 'GMB_02', 'GMB_02', 'GMB_02', 'GMB_02', 'GMB_02', 'GMB_02', 'GMB_02', 'GMB_02', 'GMB_02', 'GMB_02', 'GMB_02', 'GMB_02', 'GMB_02', 'GMB_02', 'GMB_02', 'GMB_02', 'GMB_02', 'GMB_02', 'GMB_02', 'GMB_02', 'GMB_02', 'GMB_02', 'GMB_02', 'GMB_02', 'GMB_02', 'GMB_02', 'GMB_02', 'GMB_02', 'GMB_02', 'GMB_02', 'GMB_02', 'GMB_02', 'GMB_02', 'GMB_02', 'GMB_02', 'GMB_02', 'GMB_02', 'GMB_02', 'GMB_02', 'GMB_02', 'GMB_02', 'GMB_02', 'GMB_02', 'GMB_02', 'GMB_02', 'GMB_02', 'GMB_02', 'GMB_02', 'GMB_02', 'GMB_02', 'GMB_02', 'GMB_02', 'GMB_02', 'GMB_02', 'GMB_02', 'GMB_02', 'GMB_02', 'GMB_02', 'GMB_03', 'GMB_03', 'GMB_03', 'GMB_03', 'GMB_03', 'GMB_03', 'GMB_03', 'GMB_03', 'GMB_03', 'GMB_03', 'GMB_03', 'GMB_03', 'GMB_03', 'GMB_03', 'GMB_03', 'GMB_03', 'GMB_03', 'GMB_03', 'GMB_03', 'GMB_03', 'GMB_03', 'GMB_03', 'GMB_03', 'GMB_03', 'GMB_03', 'GMB_03', 'GMB_03', 'GMB_03', 'GMB_03', 'GMB_03', 'GMB_03', 'GMB_03', 'GMB_03', 'GMB_03', 'GMB_03', 'GMB_03', 'GMB_03', 'GMB_03', 'GMB_03', 'GMB_03', 'GMB_03', 'GMB_03', 'GMB_03', 'GMB_03', 'GMB_03', 'GMB_03', 'GMB_03', 'GMB_03', 'GMB_03', 'GMB_03', 'GMB_03', 'GMB_03', 'GMB_03', 'GMB_03', 'GMB_03', 'GMB_03', 'GMB_03', 'GMB_03', 'GMB_03', 'GMB_03', 'GMB_03', 'GMB_03', 'GMB_03', 'GMB_03', 'GMB_03', 'GMB_03', 'GMB_03', 'GMB_03', 'GMB_03', 'GMB_03', 'GMB_03', 'GMB_03', 'GMB_03', 'GMB_03', 'GMB_03', 'GMB_03', 'GMB_03', 'GMB_03', 'GMB_03', 'GMB_03', 'GMB_03', 'GMB_03', 'GMB_03', 'GMB_03', 'GMB_03', 'GMB_03', 'GMB_03', 'GMB_03', 'GMB_03', 'GMB_03', 'GMB_03', 'GMB_03', 'GMB_03', 'GMB_03', 'GMB_03', 'GMB_03', 'GMB_03', 'GMB_03', 'GMB_03', 'GMB_03', 'GMB_03', 'GMB_03', 'GMB_03', 'GMB_03', 'GMB_03', 'GMB_03', 'GMB_03', 'GMB_03', 'GMB_03', 'GMB_03', 'GMB_03', 'GMB_03']\n"
          ],
          "name": "stdout"
        }
      ]
    },
    {
      "cell_type": "code",
      "metadata": {
        "id": "twd1IeuKVGB5"
      },
      "source": [
        "lb = LabelBinarizer()\n",
        "labels = lb.fit_transform(labels)"
      ],
      "execution_count": 439,
      "outputs": []
    },
    {
      "cell_type": "code",
      "metadata": {
        "colab": {
          "base_uri": "https://localhost:8080/"
        },
        "id": "vLw0Ob7rjmpp",
        "outputId": "6bcaffc3-0ecb-4e54-8683-f99c491ae2b5"
      },
      "source": [
        "print(labels)"
      ],
      "execution_count": 440,
      "outputs": [
        {
          "output_type": "stream",
          "text": [
            "[[0 0 0 1 0]\n",
            " [0 0 0 1 0]\n",
            " [0 0 0 1 0]\n",
            " ...\n",
            " [0 0 1 0 0]\n",
            " [0 0 1 0 0]\n",
            " [0 0 1 0 0]]\n"
          ],
          "name": "stdout"
        }
      ]
    },
    {
      "cell_type": "code",
      "metadata": {
        "id": "ktZ5hNYwVGB9",
        "colab": {
          "base_uri": "https://localhost:8080/"
        },
        "outputId": "0454a1ed-2293-4449-ded9-4cc88f0d5a85"
      },
      "source": [
        "(trainX, testX, trainY, testY) = train_test_split(np.array(data),\tnp.array(labels), test_size=0.3, shuffle=True)\n",
        "print(trainX.shape)\n",
        "print(testX.shape)"
      ],
      "execution_count": 441,
      "outputs": [
        {
          "output_type": "stream",
          "text": [
            "(408, 128, 128, 3)\n",
            "(176, 128, 128, 3)\n"
          ],
          "name": "stdout"
        }
      ]
    },
    {
      "cell_type": "code",
      "metadata": {
        "colab": {
          "base_uri": "https://localhost:8080/"
        },
        "id": "JeKTPhiFr13Y",
        "outputId": "2964e224-7179-4fcc-f14d-819b089b2356"
      },
      "source": [
        "from keras.layers import Convolution2D, MaxPooling2D\n",
        "from keras.models import Sequential\n",
        "from keras.layers import Flatten, Dense\n",
        "\n",
        "model1 = Sequential()\n",
        "model1.add(Convolution2D(64, 3, 3, activation='relu', input_shape=(128, 128, 3)))\n",
        "model1.add(MaxPooling2D(2, 2))\n",
        "model1.add(Convolution2D(256, 3, 3, activation='relu'))\n",
        "model1.add(MaxPooling2D(2, 2))\n",
        "\n",
        "model1.add(Flatten())\n",
        "model1.add(Dense(128, activation='relu'))\n",
        "model1.add(Dense(64, activation='relu'))\n",
        "model1.add(Dense(32, activation='relu'))\n",
        "model1.add(Dense(5, activation='softmax'))\n",
        "\n",
        "model1.summary()"
      ],
      "execution_count": 448,
      "outputs": [
        {
          "output_type": "stream",
          "text": [
            "Model: \"sequential_107\"\n",
            "_________________________________________________________________\n",
            "Layer (type)                 Output Shape              Param #   \n",
            "=================================================================\n",
            "conv2d_220 (Conv2D)          (None, 42, 42, 64)        1792      \n",
            "_________________________________________________________________\n",
            "max_pooling2d_199 (MaxPoolin (None, 21, 21, 64)        0         \n",
            "_________________________________________________________________\n",
            "conv2d_221 (Conv2D)          (None, 7, 7, 256)         147712    \n",
            "_________________________________________________________________\n",
            "max_pooling2d_200 (MaxPoolin (None, 3, 3, 256)         0         \n",
            "_________________________________________________________________\n",
            "flatten_106 (Flatten)        (None, 2304)              0         \n",
            "_________________________________________________________________\n",
            "dense_538 (Dense)            (None, 128)               295040    \n",
            "_________________________________________________________________\n",
            "dense_539 (Dense)            (None, 64)                8256      \n",
            "_________________________________________________________________\n",
            "dense_540 (Dense)            (None, 32)                2080      \n",
            "_________________________________________________________________\n",
            "dense_541 (Dense)            (None, 5)                 165       \n",
            "=================================================================\n",
            "Total params: 455,045\n",
            "Trainable params: 455,045\n",
            "Non-trainable params: 0\n",
            "_________________________________________________________________\n"
          ],
          "name": "stdout"
        }
      ]
    },
    {
      "cell_type": "code",
      "metadata": {
        "id": "sny_9-wU8PGB"
      },
      "source": [
        "#from keras.models import Sequential\n",
        "#from keras.layers.core import Flatten\n",
        "#from keras.layers.core import Dense\n",
        "\n",
        "#model = Sequential(\n",
        "    #[\n",
        "        #Flatten(input_shape=(64*64*3,)),\n",
        "        #Dense(100, activation=\"relu\", name=\"layer1\"),\n",
        "        #Dense(16, activation=\"relu\", name=\"layer2\"),\n",
        "        #Dense(16, activation=\"relu\", name=\"layer3\"),\n",
        "        #Dense(3, activation = \"softmax\", name=\"layer4\"),\n",
        "    #]\n",
        "#)"
      ],
      "execution_count": 443,
      "outputs": []
    },
    {
      "cell_type": "code",
      "metadata": {
        "id": "5lfia2aOqHar"
      },
      "source": [
        "#model.summary()"
      ],
      "execution_count": 444,
      "outputs": []
    },
    {
      "cell_type": "code",
      "metadata": {
        "scrolled": true,
        "id": "ggcSdj_aVGCB",
        "colab": {
          "base_uri": "https://localhost:8080/"
        },
        "outputId": "8af28f3c-6d0e-492b-e70b-2f595c836328"
      },
      "source": [
        "print(\"[INFO] training network...\")\n",
        "opt = Adam(lr=1e-3, decay=1e-3 / 50)\n",
        "model1.compile(loss=\"categorical_crossentropy\", optimizer=opt,\n",
        "\tmetrics=[\"accuracy\"])\n",
        "H = model1.fit(trainX, trainY, validation_data=(testX, testY), epochs=100, batch_size=32)"
      ],
      "execution_count": 449,
      "outputs": [
        {
          "output_type": "stream",
          "text": [
            "[INFO] training network...\n",
            "Epoch 1/100\n",
            "13/13 [==============================] - 1s 105ms/step - loss: 1.6165 - accuracy: 0.1936 - val_loss: 1.6110 - val_accuracy: 0.2045\n",
            "Epoch 2/100\n",
            "13/13 [==============================] - 1s 92ms/step - loss: 1.6111 - accuracy: 0.2132 - val_loss: 1.5982 - val_accuracy: 0.2273\n",
            "Epoch 3/100\n",
            "13/13 [==============================] - 1s 94ms/step - loss: 1.5703 - accuracy: 0.2966 - val_loss: 1.5582 - val_accuracy: 0.2102\n",
            "Epoch 4/100\n",
            "13/13 [==============================] - 1s 92ms/step - loss: 1.4559 - accuracy: 0.3309 - val_loss: 1.4664 - val_accuracy: 0.3523\n",
            "Epoch 5/100\n",
            "13/13 [==============================] - 1s 91ms/step - loss: 1.3566 - accuracy: 0.4265 - val_loss: 1.4969 - val_accuracy: 0.3352\n",
            "Epoch 6/100\n",
            "13/13 [==============================] - 1s 90ms/step - loss: 1.2864 - accuracy: 0.4632 - val_loss: 1.3954 - val_accuracy: 0.3523\n",
            "Epoch 7/100\n",
            "13/13 [==============================] - 1s 92ms/step - loss: 1.1838 - accuracy: 0.4951 - val_loss: 1.3096 - val_accuracy: 0.4205\n",
            "Epoch 8/100\n",
            "13/13 [==============================] - 1s 92ms/step - loss: 1.0905 - accuracy: 0.5784 - val_loss: 1.2666 - val_accuracy: 0.4830\n",
            "Epoch 9/100\n",
            "13/13 [==============================] - 1s 93ms/step - loss: 1.0522 - accuracy: 0.5686 - val_loss: 1.1685 - val_accuracy: 0.5398\n",
            "Epoch 10/100\n",
            "13/13 [==============================] - 1s 92ms/step - loss: 0.9500 - accuracy: 0.6176 - val_loss: 1.1378 - val_accuracy: 0.5739\n",
            "Epoch 11/100\n",
            "13/13 [==============================] - 1s 92ms/step - loss: 0.8780 - accuracy: 0.6814 - val_loss: 1.2544 - val_accuracy: 0.4545\n",
            "Epoch 12/100\n",
            "13/13 [==============================] - 1s 92ms/step - loss: 0.7939 - accuracy: 0.6814 - val_loss: 1.0260 - val_accuracy: 0.6023\n",
            "Epoch 13/100\n",
            "13/13 [==============================] - 1s 93ms/step - loss: 0.6403 - accuracy: 0.7647 - val_loss: 0.9552 - val_accuracy: 0.6023\n",
            "Epoch 14/100\n",
            "13/13 [==============================] - 1s 92ms/step - loss: 0.5382 - accuracy: 0.8039 - val_loss: 1.0471 - val_accuracy: 0.6080\n",
            "Epoch 15/100\n",
            "13/13 [==============================] - 1s 92ms/step - loss: 0.5750 - accuracy: 0.7500 - val_loss: 0.9633 - val_accuracy: 0.6023\n",
            "Epoch 16/100\n",
            "13/13 [==============================] - 1s 92ms/step - loss: 0.4602 - accuracy: 0.8456 - val_loss: 0.8786 - val_accuracy: 0.6648\n",
            "Epoch 17/100\n",
            "13/13 [==============================] - 1s 93ms/step - loss: 0.3807 - accuracy: 0.8603 - val_loss: 0.8409 - val_accuracy: 0.6648\n",
            "Epoch 18/100\n",
            "13/13 [==============================] - 1s 94ms/step - loss: 0.3506 - accuracy: 0.8775 - val_loss: 0.8842 - val_accuracy: 0.6705\n",
            "Epoch 19/100\n",
            "13/13 [==============================] - 1s 93ms/step - loss: 0.2757 - accuracy: 0.8995 - val_loss: 0.8061 - val_accuracy: 0.6989\n",
            "Epoch 20/100\n",
            "13/13 [==============================] - 1s 96ms/step - loss: 0.2429 - accuracy: 0.9265 - val_loss: 0.8297 - val_accuracy: 0.6818\n",
            "Epoch 21/100\n",
            "13/13 [==============================] - 1s 93ms/step - loss: 0.2092 - accuracy: 0.9436 - val_loss: 0.9172 - val_accuracy: 0.7045\n",
            "Epoch 22/100\n",
            "13/13 [==============================] - 1s 93ms/step - loss: 0.1688 - accuracy: 0.9510 - val_loss: 0.8347 - val_accuracy: 0.7273\n",
            "Epoch 23/100\n",
            "13/13 [==============================] - 1s 93ms/step - loss: 0.1503 - accuracy: 0.9608 - val_loss: 0.9873 - val_accuracy: 0.6932\n",
            "Epoch 24/100\n",
            "13/13 [==============================] - 1s 93ms/step - loss: 0.1471 - accuracy: 0.9657 - val_loss: 0.7839 - val_accuracy: 0.7330\n",
            "Epoch 25/100\n",
            "13/13 [==============================] - 1s 95ms/step - loss: 0.1239 - accuracy: 0.9681 - val_loss: 0.9340 - val_accuracy: 0.7045\n",
            "Epoch 26/100\n",
            "13/13 [==============================] - 1s 93ms/step - loss: 0.0976 - accuracy: 0.9779 - val_loss: 0.7348 - val_accuracy: 0.7670\n",
            "Epoch 27/100\n",
            "13/13 [==============================] - 1s 94ms/step - loss: 0.0761 - accuracy: 0.9877 - val_loss: 0.8153 - val_accuracy: 0.7557\n",
            "Epoch 28/100\n",
            "13/13 [==============================] - 1s 95ms/step - loss: 0.1151 - accuracy: 0.9681 - val_loss: 0.8570 - val_accuracy: 0.7727\n",
            "Epoch 29/100\n",
            "13/13 [==============================] - 1s 93ms/step - loss: 0.0588 - accuracy: 0.9902 - val_loss: 0.7750 - val_accuracy: 0.8068\n",
            "Epoch 30/100\n",
            "13/13 [==============================] - 1s 94ms/step - loss: 0.0425 - accuracy: 0.9926 - val_loss: 0.7976 - val_accuracy: 0.7614\n",
            "Epoch 31/100\n",
            "13/13 [==============================] - 1s 93ms/step - loss: 0.0288 - accuracy: 0.9975 - val_loss: 0.8377 - val_accuracy: 0.7386\n",
            "Epoch 32/100\n",
            "13/13 [==============================] - 1s 96ms/step - loss: 0.0188 - accuracy: 1.0000 - val_loss: 0.8815 - val_accuracy: 0.7500\n",
            "Epoch 33/100\n",
            "13/13 [==============================] - 1s 94ms/step - loss: 0.0176 - accuracy: 1.0000 - val_loss: 0.9138 - val_accuracy: 0.7614\n",
            "Epoch 34/100\n",
            "13/13 [==============================] - 1s 95ms/step - loss: 0.0163 - accuracy: 1.0000 - val_loss: 0.9360 - val_accuracy: 0.7557\n",
            "Epoch 35/100\n",
            "13/13 [==============================] - 1s 97ms/step - loss: 0.0129 - accuracy: 1.0000 - val_loss: 0.8440 - val_accuracy: 0.7670\n",
            "Epoch 36/100\n",
            "13/13 [==============================] - 1s 98ms/step - loss: 0.0096 - accuracy: 1.0000 - val_loss: 0.8358 - val_accuracy: 0.7841\n",
            "Epoch 37/100\n",
            "13/13 [==============================] - 1s 95ms/step - loss: 0.0090 - accuracy: 1.0000 - val_loss: 0.8859 - val_accuracy: 0.7841\n",
            "Epoch 38/100\n",
            "13/13 [==============================] - 1s 97ms/step - loss: 0.0078 - accuracy: 1.0000 - val_loss: 0.8736 - val_accuracy: 0.7841\n",
            "Epoch 39/100\n",
            "13/13 [==============================] - 1s 93ms/step - loss: 0.0070 - accuracy: 1.0000 - val_loss: 0.8475 - val_accuracy: 0.7841\n",
            "Epoch 40/100\n",
            "13/13 [==============================] - 1s 95ms/step - loss: 0.0061 - accuracy: 1.0000 - val_loss: 0.8553 - val_accuracy: 0.7898\n",
            "Epoch 41/100\n",
            "13/13 [==============================] - 1s 94ms/step - loss: 0.0057 - accuracy: 1.0000 - val_loss: 0.8892 - val_accuracy: 0.7898\n",
            "Epoch 42/100\n",
            "13/13 [==============================] - 1s 96ms/step - loss: 0.0052 - accuracy: 1.0000 - val_loss: 0.8827 - val_accuracy: 0.7841\n",
            "Epoch 43/100\n",
            "13/13 [==============================] - 1s 93ms/step - loss: 0.0050 - accuracy: 1.0000 - val_loss: 0.8752 - val_accuracy: 0.7898\n",
            "Epoch 44/100\n",
            "13/13 [==============================] - 1s 96ms/step - loss: 0.0045 - accuracy: 1.0000 - val_loss: 0.9098 - val_accuracy: 0.7841\n",
            "Epoch 45/100\n",
            "13/13 [==============================] - 1s 95ms/step - loss: 0.0043 - accuracy: 1.0000 - val_loss: 0.8783 - val_accuracy: 0.8068\n",
            "Epoch 46/100\n",
            "13/13 [==============================] - 1s 93ms/step - loss: 0.0047 - accuracy: 1.0000 - val_loss: 0.8975 - val_accuracy: 0.8011\n",
            "Epoch 47/100\n",
            "13/13 [==============================] - 1s 95ms/step - loss: 0.0039 - accuracy: 1.0000 - val_loss: 0.8682 - val_accuracy: 0.7955\n",
            "Epoch 48/100\n",
            "13/13 [==============================] - 1s 93ms/step - loss: 0.0036 - accuracy: 1.0000 - val_loss: 0.9322 - val_accuracy: 0.7898\n",
            "Epoch 49/100\n",
            "13/13 [==============================] - 1s 93ms/step - loss: 0.0031 - accuracy: 1.0000 - val_loss: 0.9194 - val_accuracy: 0.7898\n",
            "Epoch 50/100\n",
            "13/13 [==============================] - 1s 95ms/step - loss: 0.0029 - accuracy: 1.0000 - val_loss: 0.9069 - val_accuracy: 0.7955\n",
            "Epoch 51/100\n",
            "13/13 [==============================] - 1s 94ms/step - loss: 0.0027 - accuracy: 1.0000 - val_loss: 0.9358 - val_accuracy: 0.7841\n",
            "Epoch 52/100\n",
            "13/13 [==============================] - 1s 95ms/step - loss: 0.0027 - accuracy: 1.0000 - val_loss: 0.9220 - val_accuracy: 0.7955\n",
            "Epoch 53/100\n",
            "13/13 [==============================] - 1s 94ms/step - loss: 0.0024 - accuracy: 1.0000 - val_loss: 0.9541 - val_accuracy: 0.7898\n",
            "Epoch 54/100\n",
            "13/13 [==============================] - 1s 94ms/step - loss: 0.0024 - accuracy: 1.0000 - val_loss: 0.9278 - val_accuracy: 0.7955\n",
            "Epoch 55/100\n",
            "13/13 [==============================] - 1s 96ms/step - loss: 0.0022 - accuracy: 1.0000 - val_loss: 0.9380 - val_accuracy: 0.7955\n",
            "Epoch 56/100\n",
            "13/13 [==============================] - 1s 94ms/step - loss: 0.0021 - accuracy: 1.0000 - val_loss: 0.9728 - val_accuracy: 0.7898\n",
            "Epoch 57/100\n",
            "13/13 [==============================] - 1s 94ms/step - loss: 0.0020 - accuracy: 1.0000 - val_loss: 0.9462 - val_accuracy: 0.7955\n",
            "Epoch 58/100\n",
            "13/13 [==============================] - 1s 95ms/step - loss: 0.0019 - accuracy: 1.0000 - val_loss: 0.9611 - val_accuracy: 0.7955\n",
            "Epoch 59/100\n",
            "13/13 [==============================] - 1s 95ms/step - loss: 0.0018 - accuracy: 1.0000 - val_loss: 0.9658 - val_accuracy: 0.7955\n",
            "Epoch 60/100\n",
            "13/13 [==============================] - 1s 97ms/step - loss: 0.0018 - accuracy: 1.0000 - val_loss: 0.9537 - val_accuracy: 0.7898\n",
            "Epoch 61/100\n",
            "13/13 [==============================] - 1s 95ms/step - loss: 0.0017 - accuracy: 1.0000 - val_loss: 0.9664 - val_accuracy: 0.7955\n",
            "Epoch 62/100\n",
            "13/13 [==============================] - 1s 94ms/step - loss: 0.0015 - accuracy: 1.0000 - val_loss: 0.9684 - val_accuracy: 0.7955\n",
            "Epoch 63/100\n",
            "13/13 [==============================] - 1s 96ms/step - loss: 0.0015 - accuracy: 1.0000 - val_loss: 0.9812 - val_accuracy: 0.7955\n",
            "Epoch 64/100\n",
            "13/13 [==============================] - 1s 95ms/step - loss: 0.0015 - accuracy: 1.0000 - val_loss: 0.9857 - val_accuracy: 0.7955\n",
            "Epoch 65/100\n",
            "13/13 [==============================] - 1s 94ms/step - loss: 0.0014 - accuracy: 1.0000 - val_loss: 0.9753 - val_accuracy: 0.7955\n",
            "Epoch 66/100\n",
            "13/13 [==============================] - 1s 94ms/step - loss: 0.0013 - accuracy: 1.0000 - val_loss: 0.9835 - val_accuracy: 0.7955\n",
            "Epoch 67/100\n",
            "13/13 [==============================] - 1s 96ms/step - loss: 0.0013 - accuracy: 1.0000 - val_loss: 1.0062 - val_accuracy: 0.7955\n",
            "Epoch 68/100\n",
            "13/13 [==============================] - 1s 94ms/step - loss: 0.0012 - accuracy: 1.0000 - val_loss: 0.9802 - val_accuracy: 0.7955\n",
            "Epoch 69/100\n",
            "13/13 [==============================] - 1s 94ms/step - loss: 0.0012 - accuracy: 1.0000 - val_loss: 1.0136 - val_accuracy: 0.7898\n",
            "Epoch 70/100\n",
            "13/13 [==============================] - 1s 96ms/step - loss: 0.0011 - accuracy: 1.0000 - val_loss: 0.9936 - val_accuracy: 0.7955\n",
            "Epoch 71/100\n",
            "13/13 [==============================] - 1s 95ms/step - loss: 0.0011 - accuracy: 1.0000 - val_loss: 1.0010 - val_accuracy: 0.7955\n",
            "Epoch 72/100\n",
            "13/13 [==============================] - 1s 95ms/step - loss: 0.0011 - accuracy: 1.0000 - val_loss: 1.0131 - val_accuracy: 0.7955\n",
            "Epoch 73/100\n",
            "13/13 [==============================] - 1s 94ms/step - loss: 0.0010 - accuracy: 1.0000 - val_loss: 1.0008 - val_accuracy: 0.7955\n",
            "Epoch 74/100\n",
            "13/13 [==============================] - 1s 94ms/step - loss: 9.8533e-04 - accuracy: 1.0000 - val_loss: 1.0379 - val_accuracy: 0.7898\n",
            "Epoch 75/100\n",
            "13/13 [==============================] - 1s 95ms/step - loss: 9.7173e-04 - accuracy: 1.0000 - val_loss: 1.0057 - val_accuracy: 0.7955\n",
            "Epoch 76/100\n",
            "13/13 [==============================] - 1s 93ms/step - loss: 9.2075e-04 - accuracy: 1.0000 - val_loss: 1.0297 - val_accuracy: 0.7955\n",
            "Epoch 77/100\n",
            "13/13 [==============================] - 1s 94ms/step - loss: 8.7864e-04 - accuracy: 1.0000 - val_loss: 1.0085 - val_accuracy: 0.7955\n",
            "Epoch 78/100\n",
            "13/13 [==============================] - 1s 95ms/step - loss: 8.6352e-04 - accuracy: 1.0000 - val_loss: 1.0354 - val_accuracy: 0.7955\n",
            "Epoch 79/100\n",
            "13/13 [==============================] - 1s 95ms/step - loss: 8.7292e-04 - accuracy: 1.0000 - val_loss: 1.0109 - val_accuracy: 0.7898\n",
            "Epoch 80/100\n",
            "13/13 [==============================] - 1s 95ms/step - loss: 8.4898e-04 - accuracy: 1.0000 - val_loss: 1.0427 - val_accuracy: 0.7955\n",
            "Epoch 81/100\n",
            "13/13 [==============================] - 1s 95ms/step - loss: 7.8561e-04 - accuracy: 1.0000 - val_loss: 1.0189 - val_accuracy: 0.7898\n",
            "Epoch 82/100\n",
            "13/13 [==============================] - 1s 94ms/step - loss: 7.5509e-04 - accuracy: 1.0000 - val_loss: 1.0411 - val_accuracy: 0.7955\n",
            "Epoch 83/100\n",
            "13/13 [==============================] - 1s 95ms/step - loss: 7.3626e-04 - accuracy: 1.0000 - val_loss: 1.0303 - val_accuracy: 0.7955\n",
            "Epoch 84/100\n",
            "13/13 [==============================] - 1s 95ms/step - loss: 7.3239e-04 - accuracy: 1.0000 - val_loss: 1.0481 - val_accuracy: 0.7955\n",
            "Epoch 85/100\n",
            "13/13 [==============================] - 1s 95ms/step - loss: 7.0144e-04 - accuracy: 1.0000 - val_loss: 1.0272 - val_accuracy: 0.7955\n",
            "Epoch 86/100\n",
            "13/13 [==============================] - 1s 95ms/step - loss: 6.7142e-04 - accuracy: 1.0000 - val_loss: 1.0542 - val_accuracy: 0.7955\n",
            "Epoch 87/100\n",
            "13/13 [==============================] - 1s 95ms/step - loss: 6.4231e-04 - accuracy: 1.0000 - val_loss: 1.0409 - val_accuracy: 0.7955\n",
            "Epoch 88/100\n",
            "13/13 [==============================] - 1s 95ms/step - loss: 6.3999e-04 - accuracy: 1.0000 - val_loss: 1.0479 - val_accuracy: 0.7955\n",
            "Epoch 89/100\n",
            "13/13 [==============================] - 1s 95ms/step - loss: 6.1573e-04 - accuracy: 1.0000 - val_loss: 1.0558 - val_accuracy: 0.7955\n",
            "Epoch 90/100\n",
            "13/13 [==============================] - 1s 95ms/step - loss: 6.0656e-04 - accuracy: 1.0000 - val_loss: 1.0437 - val_accuracy: 0.7955\n",
            "Epoch 91/100\n",
            "13/13 [==============================] - 1s 96ms/step - loss: 5.8247e-04 - accuracy: 1.0000 - val_loss: 1.0635 - val_accuracy: 0.7955\n",
            "Epoch 92/100\n",
            "13/13 [==============================] - 1s 95ms/step - loss: 5.7270e-04 - accuracy: 1.0000 - val_loss: 1.0508 - val_accuracy: 0.7955\n",
            "Epoch 93/100\n",
            "13/13 [==============================] - 1s 95ms/step - loss: 5.6077e-04 - accuracy: 1.0000 - val_loss: 1.0737 - val_accuracy: 0.7955\n",
            "Epoch 94/100\n",
            "13/13 [==============================] - 1s 94ms/step - loss: 5.3627e-04 - accuracy: 1.0000 - val_loss: 1.0593 - val_accuracy: 0.7955\n",
            "Epoch 95/100\n",
            "13/13 [==============================] - 1s 94ms/step - loss: 5.2177e-04 - accuracy: 1.0000 - val_loss: 1.0705 - val_accuracy: 0.7955\n",
            "Epoch 96/100\n",
            "13/13 [==============================] - 1s 95ms/step - loss: 5.1493e-04 - accuracy: 1.0000 - val_loss: 1.0690 - val_accuracy: 0.7955\n",
            "Epoch 97/100\n",
            "13/13 [==============================] - 1s 95ms/step - loss: 5.0128e-04 - accuracy: 1.0000 - val_loss: 1.0752 - val_accuracy: 0.7955\n",
            "Epoch 98/100\n",
            "13/13 [==============================] - 1s 95ms/step - loss: 4.8573e-04 - accuracy: 1.0000 - val_loss: 1.0685 - val_accuracy: 0.7955\n",
            "Epoch 99/100\n",
            "13/13 [==============================] - 1s 96ms/step - loss: 4.7438e-04 - accuracy: 1.0000 - val_loss: 1.0706 - val_accuracy: 0.7955\n",
            "Epoch 100/100\n",
            "13/13 [==============================] - 1s 94ms/step - loss: 4.6379e-04 - accuracy: 1.0000 - val_loss: 1.0893 - val_accuracy: 0.7955\n"
          ],
          "name": "stdout"
        }
      ]
    },
    {
      "cell_type": "code",
      "metadata": {
        "id": "98_oXi-lcgux",
        "colab": {
          "base_uri": "https://localhost:8080/",
          "height": 590
        },
        "outputId": "71dea668-82df-422d-ad37-6240d6358359"
      },
      "source": [
        "import matplotlib.pyplot as plt\n",
        "\n",
        "print(H.history.keys())\n",
        "# summarize history for accuracy\n",
        "plt.plot(H.history['accuracy'])\n",
        "plt.plot(H.history['val_accuracy'])\n",
        "plt.title('model accuracy')\n",
        "plt.ylabel('accuracy')\n",
        "plt.xlabel('epoch')\n",
        "plt.legend(['train', 'test'], loc='upper left')\n",
        "plt.show()\n",
        "# summarize history for loss\n",
        "plt.plot(H.history['loss'])\n",
        "plt.plot(H.history['val_loss'])\n",
        "plt.title('model loss')\n",
        "plt.ylabel('loss')\n",
        "plt.xlabel('epoch')\n",
        "plt.legend(['train', 'test'], loc='upper left')\n",
        "plt.show()"
      ],
      "execution_count": 450,
      "outputs": [
        {
          "output_type": "stream",
          "text": [
            "dict_keys(['loss', 'accuracy', 'val_loss', 'val_accuracy'])\n"
          ],
          "name": "stdout"
        },
        {
          "output_type": "display_data",
          "data": {
            "image/png": "[encoded data removed]",
            "text/plain": [
              "<Figure size 432x288 with 1 Axes>"
            ]
          },
          "metadata": {
            "tags": [],
            "needs_background": "light"
          }
        },
        {
          "output_type": "display_data",
          "data": {
            "image/png": "[encoded data removed]",
            "text/plain": [
              "<Figure size 432x288 with 1 Axes>"
            ]
          },
          "metadata": {
            "tags": [],
            "needs_background": "light"
          }
        }
      ]
    },
    {
      "cell_type": "code",
      "metadata": {
        "id": "lPAZkmBJVGCD",
        "colab": {
          "base_uri": "https://localhost:8080/"
        },
        "outputId": "47d12dea-b352-4861-d15a-c495b966ed42"
      },
      "source": [
        "# evaluate the network\n",
        "print(\"[INFO] evaluating network...\")\n",
        "predictions = model1.predict(testX, batch_size=32)\n",
        "print(classification_report(testY.argmax(axis=1),\n",
        "\tpredictions.argmax(axis=1), target_names=lb.classes_))"
      ],
      "execution_count": 451,
      "outputs": [
        {
          "output_type": "stream",
          "text": [
            "[INFO] evaluating network...\n",
            "              precision    recall  f1-score   support\n",
            "\n",
            "      GMB_01       0.82      0.70      0.75        33\n",
            "      GMB_02       0.82      0.73      0.77        37\n",
            "      GMB_03       0.69      0.89      0.78        28\n",
            "      GMB_04       0.76      0.89      0.82        36\n",
            "      GMB_05       0.89      0.79      0.84        42\n",
            "\n",
            "    accuracy                           0.80       176\n",
            "   macro avg       0.80      0.80      0.79       176\n",
            "weighted avg       0.81      0.80      0.80       176\n",
            "\n"
          ],
          "name": "stdout"
        }
      ]
    },
    {
      "cell_type": "code",
      "metadata": {
        "id": "4uBcj8x8iwTw"
      },
      "source": [
        "#model.save('nnmodel_scene')"
      ],
      "execution_count": null,
      "outputs": []
    },
    {
      "cell_type": "code",
      "metadata": {
        "id": "AOwJT2jLVGCN"
      },
      "source": [
        "#import cv2\n",
        "#import matplotlib.pyplot as plt\n",
        "#image1='Highway_Test.jpg'"
      ],
      "execution_count": null,
      "outputs": []
    },
    {
      "cell_type": "code",
      "metadata": {
        "id": "PkM68K4GVGCP"
      },
      "source": [
        "#img_array = cv2.imread(image1)\n",
        "#plt.imshow(img_array)\n",
        "#plt.show()\n",
        "# print(type(img_array))"
      ],
      "execution_count": null,
      "outputs": []
    },
    {
      "cell_type": "code",
      "metadata": {
        "id": "1ZkNY8LWVGCR"
      },
      "source": [
        "#image_testing = Image.open('Highway_Test.jpg')\n",
        "#image_testing = np.array(image_testing.resize((64, 64))) / 255.0\n",
        "#image_testing.shape"
      ],
      "execution_count": null,
      "outputs": []
    },
    {
      "cell_type": "code",
      "metadata": {
        "id": "qL66nfOcVGCT"
      },
      "source": [
        "#image_testing = np.expand_dims(image_testing, axis=0)\n",
        "#print(image_testing.shape)"
      ],
      "execution_count": null,
      "outputs": []
    },
    {
      "cell_type": "code",
      "metadata": {
        "id": "vTy9yP1AVGCV"
      },
      "source": [
        "#output = model.predict(image_testing, 1)\n",
        "#print(output)\n",
        "#print(lb.classes_[output.argmax(axis=1)])"
      ],
      "execution_count": null,
      "outputs": []
    }
  ]
}