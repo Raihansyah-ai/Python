{
  "nbformat": 4,
  "nbformat_minor": 0,
  "metadata": {
    "colab": {
      "name": "PresensiMinggu12.ipynb",
      "provenance": [],
      "collapsed_sections": [],
      "authorship_tag": "ABX9TyMg5hDt/O22+7z7KHNN6EUT",
      "include_colab_link": true
    },
    "kernelspec": {
      "name": "python3",
      "display_name": "Python 3"
    }
  },
  "cells": [
    {
      "cell_type": "markdown",
      "metadata": {
        "id": "view-in-github",
        "colab_type": "text"
      },
      "source": [
        "<a href=\"https://colab.research.google.com/github/Raihansyah-ai/Python/blob/main/PresensiMinggu12.ipynb\" target=\"_parent\"><img src=\"https://colab.research.google.com/assets/colab-badge.svg\" alt=\"Open In Colab\"/></a>"
      ]
    },
    {
      "cell_type": "code",
      "metadata": {
        "id": "8aeLBYlMbogr"
      },
      "source": [
        "# Muhammad Rafli Raihansyah\r\n",
        "# TT-43-01\r\n",
        "# 1101190170"
      ],
      "execution_count": 27,
      "outputs": []
    },
    {
      "cell_type": "code",
      "metadata": {
        "id": "k0G1ixw0YHjC"
      },
      "source": [
        "import numpy as np"
      ],
      "execution_count": 28,
      "outputs": []
    },
    {
      "cell_type": "code",
      "metadata": {
        "id": "4MdjSkgmg9js"
      },
      "source": [
        "# Mencari C1 dengan x = Frekuensi (f)\r\n",
        "def C1(x) : \r\n",
        "    if x >= 400 and x <= 1500 :\r\n",
        "        return 69.55\r\n",
        "    elif x > 1500 and x <= 2000 :\r\n",
        "        return 46.3\r\n",
        "\r\n",
        "# Mencari C2 dengan x = Frekuensi (f)\r\n",
        "def C2(x) : \r\n",
        "    if x >= 400 and x <= 1500 :\r\n",
        "        return 26.16\r\n",
        "    elif x > 1500 and x <= 2000 :\r\n",
        "        return 33.9\r\n",
        "\r\n",
        "# Mencari Tp(Tinggi Pemancar) dengan x = Tinggi Pemancar (hR) dan y = Frekuensi (f)\r\n",
        "def Tp(x, y) : \r\n",
        "    return (((1.1*np.log10(y))-0.7)*x) - ((1.56*np.log10(y))-0.8)\r\n",
        "\r\n",
        "# Mencari Ta(Tipe Area) dengan x = Tipe Area dan y = Frekuensi (f)\r\n",
        "def Ta(x, y) : \r\n",
        "    if x == 1 :\r\n",
        "        return 0\r\n",
        "    elif x == 2 :\r\n",
        "        return (-2*((np.log10(y/28))**2))-54\r\n",
        "    else :\r\n",
        "        return (-4.78*((np.log10(f))**2))+(18.33*np.log10(f))-40.94\r\n",
        "\r\n",
        "def PathLoss(d, f, Type_Cm, hT, hR) :\r\n",
        "  return C1(f)+(C2(f)*np.log10(f))-(13.83*np.log10(hT))-Tp(hR, f)+((44.9-(6.55*np.log10(hT)))*np.log10(d))+Ta(Type_Cm, f)\r\n",
        "  \r\n",
        "\r\n",
        "#Mencari PathLoss (dB) dengan \r\n",
        "#d = Jarak Pemancar ke Penerima (km)\r\n",
        "#f = Frekuensi (MHz)\r\n",
        "#Type_Cm = Tipe Area\r\n",
        "#hT = Tinggi Pemancar (m)\r\n",
        "#hR = Tinggi Penerima (m)\r\n"
      ],
      "execution_count": 29,
      "outputs": []
    },
    {
      "cell_type": "code",
      "metadata": {
        "colab": {
          "base_uri": "https://localhost:8080/"
        },
        "id": "OTNpZ-LVSL0o",
        "outputId": "9124283d-1b34-4f11-a22b-9bd1c48b86bb"
      },
      "source": [
        "print(\"Silahkan masukan Parameternya!!!\\n\")\r\n",
        "\r\n",
        "# masukan nilai jarak\r\n",
        "d = float(input(\"\\nJarak Pemancar Ke Penerima (Km) : \\n\"))\r\n",
        "\r\n",
        "# masukan nilai frekuensi\r\n",
        "f = float(input(\"\\nMasukan frekuensinya (400 - 2000 Mhz): \\n\"))\r\n",
        "while f < 400 or f> 2000 :\r\n",
        "  print(\"Frekuensi diluar rentang\")\r\n",
        "  f = float(input(\"\\nMasukan frekuensinya (400 - 2000 Mhz): \"))\r\n",
        "\r\n",
        "# Pilih tipe area anda\r\n",
        "print(\"\\nSilahkan Pilih Area Anda\")\r\n",
        "print(\"\"\"Tipe Area :\\n\r\n",
        "1. Urban\\n\r\n",
        "2. SubUrban\\n\r\n",
        "3. Open\\n \"\"\")\r\n",
        "Type_Cm = int(input(\"Pilih Area Anda(1/2/3) : \"))\r\n",
        "\r\n",
        "while Type_Cm < 1 or Type_Cm > 3 :\r\n",
        "  print(\"Anda Belum Memilih Tipe Area : \")\r\n",
        "  print(\"Silahkan Pilih Area Anda\")\r\n",
        "  print(\"\"\"Tipe Area :\\n\r\n",
        "  1. Urban\\n\r\n",
        "  2. SubUrban\\n\r\n",
        "  3. Open\\n \"\"\")\r\n",
        "  Type_Cm = int(input(\"Pilih Area Anda(1/2/3) : \\n\"))\r\n",
        "\r\n",
        "if Type_Cm == 1 :\r\n",
        "  Tipe_Area = \"Urban\"\r\n",
        "  print(\"\\n|||||Tipe Area Anda adalah Urban|||||\\n\")\r\n",
        "elif Type_Cm == 2 :\r\n",
        "  Tipe_Area = \"SubUrban\"\r\n",
        "  print(\"\\n|||||Tipe Area Anda adalah SubUrban|||||\\n\")\r\n",
        "elif Type_Cm == 3 :\r\n",
        "  Tipe_Area = \"Open\"\r\n",
        "  print(\"\\n||||||Tipe Area Anda adalah Open|||||\\n\")\r\n",
        "\r\n",
        "#Input Tinggi Pemancar\r\n",
        "hT = float(input(\"Masukan Tinggi Pemancar (30 m - 200 m) : \\n\"))\r\n",
        "while hT < 30 or hT > 200 :\r\n",
        "    print(\"Tinggi Pemancar Yang Dimasukan Diluar Rentang !!\")\r\n",
        "    hT = float(input(\"Silahkan Masukan Lagi Tinggi Pemancar (30 m - 200 m) : \"))\r\n",
        "\r\n",
        "# Input Tinggi Penerima\r\n",
        "hR = float(input(\"\\nMasukan Tinggi Penerima (1 m - 30 m) : \\n\"))\r\n",
        "while hR < 1 or hR > 30 :\r\n",
        "    print(\"Tinggi Penerima Yang Dimasukan Diluar Rentang !!\")\r\n",
        "    hR = float(input(\"Silahkan Masukan Lagi Tinggi Penerima (1 m - 30 m) : \"))"
      ],
      "execution_count": 30,
      "outputs": [
        {
          "output_type": "stream",
          "text": [
            "Silahkan masukan Parameternya!!!\n",
            "\n",
            "\n",
            "Jarak Pemancar Ke Penerima (Km) : \n",
            "5\n",
            "\n",
            "Masukan frekuensinya (400 - 2000 Mhz): \n",
            "700\n",
            "\n",
            "Silahkan Pilih Area Anda\n",
            "Tipe Area :\n",
            "\n",
            "1. Urban\n",
            "\n",
            "2. SubUrban\n",
            "\n",
            "3. Open\n",
            " \n",
            "Pilih Area Anda(1/2/3) : 3\n",
            "\n",
            "||||||Tipe Area Anda adalah Open|||||\n",
            "\n",
            "Masukan Tinggi Pemancar (30 m - 200 m) : \n",
            "100\n",
            "\n",
            "Masukan Tinggi Penerima (1 m - 30 m) : \n",
            "15\n"
          ],
          "name": "stdout"
        }
      ]
    },
    {
      "cell_type": "code",
      "metadata": {
        "colab": {
          "base_uri": "https://localhost:8080/"
        },
        "id": "mHDr6v7EXzZh",
        "outputId": "42c23479-247b-4cb8-c86b-0c64d8e33b45"
      },
      "source": [
        "# Input parameter pengetesan\r\n",
        "print(\"Parameter yang anda masukan :\")\r\n",
        "print(\"\"\"1. Jarak Pemancar : {} km\\n\r\n",
        "2. Frekuensi  : {} MHz\\n\r\n",
        "3. Tipe Area  : Area {}\\n\r\n",
        "4. Tinggi Pemancar  : {} m\\n\r\n",
        "5. Tinggi Penerima  : {} m\\n\"\"\".format(d, f, Tipe_Area, hT, hR))\r\n",
        "print(\"Pathloss berdasarkan parameter diatas adalah :\", PathLoss(d, f, Type_Cm, hT, hR), \"dB\")"
      ],
      "execution_count": 32,
      "outputs": [
        {
          "output_type": "stream",
          "text": [
            "Parameter yang anda masukan :\n",
            "1. Jarak Pemancar : 5.0 km\n",
            "\n",
            "2. Frekuensi  : 700.0 MHz\n",
            "\n",
            "3. Tipe Area  : Area Open\n",
            "\n",
            "4. Tinggi Pemancar  : 100.0 m\n",
            "\n",
            "5. Tinggi Penerima  : 15.0 m\n",
            "\n",
            "Pathloss berdasarkan parameter diatas adalah : 78.2577871624463 dB\n"
          ],
          "name": "stdout"
        }
      ]
    }
  ]
}