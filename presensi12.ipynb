{
  "nbformat": 4,
  "nbformat_minor": 0,
  "metadata": {
    "colab": {
      "name": "presensi12.ipynb",
      "provenance": [],
      "authorship_tag": "ABX9TyP+hDXX5fVMEeHNc4ivB/0I",
      "include_colab_link": true
    },
    "kernelspec": {
      "name": "python3",
      "display_name": "Python 3"
    }
  },
  "cells": [
    {
      "cell_type": "markdown",
      "metadata": {
        "id": "view-in-github",
        "colab_type": "text"
      },
      "source": [
        "<a href=\"https://colab.research.google.com/github/Raihansyah-ai/Python/blob/main/presensi12.ipynb\" target=\"_parent\"><img src=\"https://colab.research.google.com/assets/colab-badge.svg\" alt=\"Open In Colab\"/></a>"
      ]
    },
    {
      "cell_type": "code",
      "metadata": {
        "id": "JmNV_pfIQWIb"
      },
      "source": [
        "import numpy as np"
      ],
      "execution_count": 1,
      "outputs": []
    },
    {
      "cell_type": "code",
      "metadata": {
        "id": "vQm_QkLyQiJX"
      },
      "source": [
        "toLog = lambda x: 10*np.log10(x)\r\n",
        "toNum = lambda x: 10**(x/10)\r\n"
      ],
      "execution_count": 2,
      "outputs": []
    },
    {
      "cell_type": "code",
      "metadata": {
        "id": "u1cuwPC5Rgxi"
      },
      "source": [
        "def ploss(d,f):\r\n",
        "  pldb = -22.75+(20*np.log20(d))+(20*np.log20(f))\r\n",
        "  plnum = toNum(-pldb)\r\n",
        "\r\n",
        "  return pldb, plnum"
      ],
      "execution_count": 8,
      "outputs": []
    },
    {
      "cell_type": "code",
      "metadata": {
        "id": "4MdjSkgmg9js"
      },
      "source": [
        "# Mencari C1 dengan x = Frekuensi (f)\r\n",
        "def C1(x) : \r\n",
        "    if x >= 400 and x <= 1500 :\r\n",
        "        return 69.55\r\n",
        "    elif x > 1500 and x <= 2000 :\r\n",
        "        return 46.3\r\n"
      ],
      "execution_count": 16,
      "outputs": []
    },
    {
      "cell_type": "code",
      "metadata": {
        "id": "9BFpCK1rg_-e"
      },
      "source": [
        "# Mencari C2 dengan x = Frekuensi (f)\r\n",
        "def C2(x) : \r\n",
        "    if x >= 400 and x <= 1500 :\r\n",
        "        return 26.16\r\n",
        "    elif x > 1500 and x <= 2000 :\r\n",
        "        return 33.9"
      ],
      "execution_count": 17,
      "outputs": []
    },
    {
      "cell_type": "code",
      "metadata": {
        "id": "XG0UUXRKhD0C"
      },
      "source": [
        "# Mencari Tp(Tinggi Pemancar) dengan x = Tinggi Pemancar (hR) dan y = Frekuensi (f)\r\n",
        "def Tp(x, y) : \r\n",
        "    return (((1.1*np.log10(y))-0.7)*x) - ((1.56*np.log10(y))-0.8)"
      ],
      "execution_count": 18,
      "outputs": []
    },
    {
      "cell_type": "code",
      "metadata": {
        "id": "Eh5oEvKfhFza"
      },
      "source": [
        "# Mencari Ta(Tipe Area) dengan x = Tipe Area dan y = Frekuensi (f)\r\n",
        "def Ta(x, y) : \r\n",
        "    if x == 1 :\r\n",
        "        return 0\r\n",
        "    elif x == 2 :\r\n",
        "        return (-2*((np.log10(y/28))**2))-54\r\n",
        "    else :\r\n",
        "        return (-4.78*((np.log10(f))**2))+(18.33*np.log10(f))-40.94"
      ],
      "execution_count": 19,
      "outputs": []
    },
    {
      "cell_type": "code",
      "metadata": {
        "id": "-UUcUMQ0hV-Z"
      },
      "source": [
        "def PathLoss(d, f, Type_Cm, hT, hR) :\r\n",
        "  return C1(f)+(C2(f)*np.log10(f))-(13.83*np.log10(hT))-Tp(hR, f)+((44.9-(6.55*np.log10(hT)))*np.log10(d))+Ta(Type_Cm, f)\r\n",
        "  \r\n",
        "'''\r\n",
        "Mencari PathLoss (dB) dengan \r\n",
        "d = Jarak Pemancar ke Penerima (km)\r\n",
        "f = Frekuensi (MHz)\r\n",
        "Type_Cm = Tipe Area\r\n",
        "hT = Tinggi Pemancar (m)\r\n",
        "hR = Tinggi Penerima (m)\r\n",
        "'''"
      ],
      "execution_count": 20,
      "outputs": []
    },
    {
      "cell_type": "code",
      "metadata": {
        "colab": {
          "base_uri": "https://localhost:8080/"
        },
        "id": "9mF_0wCrhWaJ",
        "outputId": "8fd4bd64-a1ff-4a73-dd8c-183d197c2619"
      },
      "source": [
        "pth= PathLoss(5,700,2,100,15)\r\n",
        "print(pth)"
      ],
      "execution_count": 22,
      "outputs": [
        {
          "output_type": "stream",
          "text": [
            "47.830773611153404\n"
          ],
          "name": "stdout"
        }
      ]
    }
  ]
}